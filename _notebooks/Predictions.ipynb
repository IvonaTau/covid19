{
 "cells": [
  {
   "cell_type": "code",
   "execution_count": 1,
   "metadata": {},
   "outputs": [],
   "source": [
    "#hide\n",
    "import pandas as pd\n",
    "import altair as alt\n",
    "import seaborn as sns\n",
    "import matplotlib.pyplot as plt\n",
    "from IPython.display import HTML\n",
    "%matplotlib inline\n",
    "sns.set()"
   ]
  },
  {
   "cell_type": "code",
   "execution_count": 2,
   "metadata": {},
   "outputs": [],
   "source": [
    "#hide\n",
    "url = ('https://raw.githubusercontent.com/CSSEGISandData/COVID-19/master/csse_covid_19_data/'\n",
    "       'csse_covid_19_time_series/time_series_covid19_confirmed_global.csv')\n",
    "df = pd.read_csv(url)\n",
    "# rename countries\n",
    "df['Country/Region'] = df['Country/Region'].replace({'Korea, South': 'South Korea'})\n",
    "df = df[~df['Country/Region'].isin(['Cruise Ship'])]   # Remove Ships\n",
    "dt_cols = df.columns[~df.columns.isin(['Province/State', 'Country/Region', 'Lat', 'Long'])]"
   ]
  },
  {
   "cell_type": "code",
   "execution_count": 3,
   "metadata": {},
   "outputs": [],
   "source": [
    "#hide\n",
    "dff = (df.groupby('Country/Region')[dt_cols].sum()\n",
    "       .stack().reset_index(name='Confirmed Cases')\n",
    "       .rename(columns={'level_1': 'Date', 'Country/Region': 'Country'}))\n",
    "dff['Date'] = pd.to_datetime(dff['Date'], format='%m/%d/%y')"
   ]
  },
  {
   "cell_type": "code",
   "execution_count": 4,
   "metadata": {},
   "outputs": [],
   "source": [
    "#hide\n",
    "countries = ['Lithuania', 'Poland', 'Greece', 'Italy', 'United Kingdom', 'Germany', 'Czechia', 'US', 'Estonia', 'France', 'Japan', 'South Korea', 'Latvia', 'Spain']"
   ]
  },
  {
   "cell_type": "code",
   "execution_count": 5,
   "metadata": {},
   "outputs": [],
   "source": [
    "#hide\n",
    "SINCE_CASES_NUM = 100\n",
    "dff2 = dff[dff['Country'].isin(countries)].copy()\n",
    "days_since = (dff2.assign(F=dff2['Confirmed Cases'].ge(SINCE_CASES_NUM))\n",
    "              .set_index('Date')\n",
    "              .groupby('Country')['F'].transform('idxmax'))\n",
    "dff2['Days since 100 cases'] = (dff2['Date'] - days_since.values).dt.days.values\n",
    "dff2 = dff2[dff2['Days since 100 cases'].ge(0)]"
   ]
  },
  {
   "cell_type": "code",
   "execution_count": 6,
   "metadata": {},
   "outputs": [
    {
     "data": {
      "text/html": [
       "<div>\n",
       "<style scoped>\n",
       "    .dataframe tbody tr th:only-of-type {\n",
       "        vertical-align: middle;\n",
       "    }\n",
       "\n",
       "    .dataframe tbody tr th {\n",
       "        vertical-align: top;\n",
       "    }\n",
       "\n",
       "    .dataframe thead th {\n",
       "        text-align: right;\n",
       "    }\n",
       "</style>\n",
       "<table border=\"1\" class=\"dataframe\">\n",
       "  <thead>\n",
       "    <tr style=\"text-align: right;\">\n",
       "      <th></th>\n",
       "      <th>Country</th>\n",
       "      <th>Date</th>\n",
       "      <th>Confirmed Cases</th>\n",
       "      <th>Days since 100 cases</th>\n",
       "    </tr>\n",
       "  </thead>\n",
       "  <tbody>\n",
       "    <tr>\n",
       "      <th>2697</th>\n",
       "      <td>Czechia</td>\n",
       "      <td>2020-03-13</td>\n",
       "      <td>141</td>\n",
       "      <td>0</td>\n",
       "    </tr>\n",
       "    <tr>\n",
       "      <th>2698</th>\n",
       "      <td>Czechia</td>\n",
       "      <td>2020-03-14</td>\n",
       "      <td>189</td>\n",
       "      <td>1</td>\n",
       "    </tr>\n",
       "    <tr>\n",
       "      <th>2699</th>\n",
       "      <td>Czechia</td>\n",
       "      <td>2020-03-15</td>\n",
       "      <td>253</td>\n",
       "      <td>2</td>\n",
       "    </tr>\n",
       "    <tr>\n",
       "      <th>2700</th>\n",
       "      <td>Czechia</td>\n",
       "      <td>2020-03-16</td>\n",
       "      <td>298</td>\n",
       "      <td>3</td>\n",
       "    </tr>\n",
       "    <tr>\n",
       "      <th>2701</th>\n",
       "      <td>Czechia</td>\n",
       "      <td>2020-03-17</td>\n",
       "      <td>396</td>\n",
       "      <td>4</td>\n",
       "    </tr>\n",
       "    <tr>\n",
       "      <th>...</th>\n",
       "      <td>...</td>\n",
       "      <td>...</td>\n",
       "      <td>...</td>\n",
       "      <td>...</td>\n",
       "    </tr>\n",
       "    <tr>\n",
       "      <th>10327</th>\n",
       "      <td>United Kingdom</td>\n",
       "      <td>2020-03-20</td>\n",
       "      <td>4014</td>\n",
       "      <td>15</td>\n",
       "    </tr>\n",
       "    <tr>\n",
       "      <th>10328</th>\n",
       "      <td>United Kingdom</td>\n",
       "      <td>2020-03-21</td>\n",
       "      <td>5067</td>\n",
       "      <td>16</td>\n",
       "    </tr>\n",
       "    <tr>\n",
       "      <th>10329</th>\n",
       "      <td>United Kingdom</td>\n",
       "      <td>2020-03-22</td>\n",
       "      <td>5745</td>\n",
       "      <td>17</td>\n",
       "    </tr>\n",
       "    <tr>\n",
       "      <th>10330</th>\n",
       "      <td>United Kingdom</td>\n",
       "      <td>2020-03-23</td>\n",
       "      <td>6726</td>\n",
       "      <td>18</td>\n",
       "    </tr>\n",
       "    <tr>\n",
       "      <th>10331</th>\n",
       "      <td>United Kingdom</td>\n",
       "      <td>2020-03-24</td>\n",
       "      <td>8164</td>\n",
       "      <td>19</td>\n",
       "    </tr>\n",
       "  </tbody>\n",
       "</table>\n",
       "<p>266 rows × 4 columns</p>\n",
       "</div>"
      ],
      "text/plain": [
       "              Country       Date  Confirmed Cases  Days since 100 cases\n",
       "2697          Czechia 2020-03-13              141                     0\n",
       "2698          Czechia 2020-03-14              189                     1\n",
       "2699          Czechia 2020-03-15              253                     2\n",
       "2700          Czechia 2020-03-16              298                     3\n",
       "2701          Czechia 2020-03-17              396                     4\n",
       "...               ...        ...              ...                   ...\n",
       "10327  United Kingdom 2020-03-20             4014                    15\n",
       "10328  United Kingdom 2020-03-21             5067                    16\n",
       "10329  United Kingdom 2020-03-22             5745                    17\n",
       "10330  United Kingdom 2020-03-23             6726                    18\n",
       "10331  United Kingdom 2020-03-24             8164                    19\n",
       "\n",
       "[266 rows x 4 columns]"
      ]
     },
     "execution_count": 6,
     "metadata": {},
     "output_type": "execute_result"
    }
   ],
   "source": [
    "dff2"
   ]
  },
  {
   "cell_type": "code",
   "execution_count": 8,
   "metadata": {},
   "outputs": [
    {
     "data": {
      "text/html": [
       "<div>\n",
       "<style scoped>\n",
       "    .dataframe tbody tr th:only-of-type {\n",
       "        vertical-align: middle;\n",
       "    }\n",
       "\n",
       "    .dataframe tbody tr th {\n",
       "        vertical-align: top;\n",
       "    }\n",
       "\n",
       "    .dataframe thead th {\n",
       "        text-align: right;\n",
       "    }\n",
       "</style>\n",
       "<table border=\"1\" class=\"dataframe\">\n",
       "  <thead>\n",
       "    <tr style=\"text-align: right;\">\n",
       "      <th></th>\n",
       "      <th>Country</th>\n",
       "      <th>Date</th>\n",
       "      <th>Confirmed Cases</th>\n",
       "      <th>Days since 100 cases</th>\n",
       "    </tr>\n",
       "  </thead>\n",
       "  <tbody>\n",
       "    <tr>\n",
       "      <th>5072</th>\n",
       "      <td>Italy</td>\n",
       "      <td>2020-02-23</td>\n",
       "      <td>155</td>\n",
       "      <td>0</td>\n",
       "    </tr>\n",
       "    <tr>\n",
       "      <th>5073</th>\n",
       "      <td>Italy</td>\n",
       "      <td>2020-02-24</td>\n",
       "      <td>229</td>\n",
       "      <td>1</td>\n",
       "    </tr>\n",
       "    <tr>\n",
       "      <th>5074</th>\n",
       "      <td>Italy</td>\n",
       "      <td>2020-02-25</td>\n",
       "      <td>322</td>\n",
       "      <td>2</td>\n",
       "    </tr>\n",
       "    <tr>\n",
       "      <th>5075</th>\n",
       "      <td>Italy</td>\n",
       "      <td>2020-02-26</td>\n",
       "      <td>453</td>\n",
       "      <td>3</td>\n",
       "    </tr>\n",
       "    <tr>\n",
       "      <th>5076</th>\n",
       "      <td>Italy</td>\n",
       "      <td>2020-02-27</td>\n",
       "      <td>655</td>\n",
       "      <td>4</td>\n",
       "    </tr>\n",
       "    <tr>\n",
       "      <th>5077</th>\n",
       "      <td>Italy</td>\n",
       "      <td>2020-02-28</td>\n",
       "      <td>888</td>\n",
       "      <td>5</td>\n",
       "    </tr>\n",
       "    <tr>\n",
       "      <th>5078</th>\n",
       "      <td>Italy</td>\n",
       "      <td>2020-02-29</td>\n",
       "      <td>1128</td>\n",
       "      <td>6</td>\n",
       "    </tr>\n",
       "    <tr>\n",
       "      <th>5079</th>\n",
       "      <td>Italy</td>\n",
       "      <td>2020-03-01</td>\n",
       "      <td>1694</td>\n",
       "      <td>7</td>\n",
       "    </tr>\n",
       "    <tr>\n",
       "      <th>5080</th>\n",
       "      <td>Italy</td>\n",
       "      <td>2020-03-02</td>\n",
       "      <td>2036</td>\n",
       "      <td>8</td>\n",
       "    </tr>\n",
       "    <tr>\n",
       "      <th>5081</th>\n",
       "      <td>Italy</td>\n",
       "      <td>2020-03-03</td>\n",
       "      <td>2502</td>\n",
       "      <td>9</td>\n",
       "    </tr>\n",
       "    <tr>\n",
       "      <th>5082</th>\n",
       "      <td>Italy</td>\n",
       "      <td>2020-03-04</td>\n",
       "      <td>3089</td>\n",
       "      <td>10</td>\n",
       "    </tr>\n",
       "    <tr>\n",
       "      <th>5083</th>\n",
       "      <td>Italy</td>\n",
       "      <td>2020-03-05</td>\n",
       "      <td>3858</td>\n",
       "      <td>11</td>\n",
       "    </tr>\n",
       "    <tr>\n",
       "      <th>5084</th>\n",
       "      <td>Italy</td>\n",
       "      <td>2020-03-06</td>\n",
       "      <td>4636</td>\n",
       "      <td>12</td>\n",
       "    </tr>\n",
       "    <tr>\n",
       "      <th>5085</th>\n",
       "      <td>Italy</td>\n",
       "      <td>2020-03-07</td>\n",
       "      <td>5883</td>\n",
       "      <td>13</td>\n",
       "    </tr>\n",
       "    <tr>\n",
       "      <th>5086</th>\n",
       "      <td>Italy</td>\n",
       "      <td>2020-03-08</td>\n",
       "      <td>7375</td>\n",
       "      <td>14</td>\n",
       "    </tr>\n",
       "    <tr>\n",
       "      <th>5087</th>\n",
       "      <td>Italy</td>\n",
       "      <td>2020-03-09</td>\n",
       "      <td>9172</td>\n",
       "      <td>15</td>\n",
       "    </tr>\n",
       "    <tr>\n",
       "      <th>5088</th>\n",
       "      <td>Italy</td>\n",
       "      <td>2020-03-10</td>\n",
       "      <td>10149</td>\n",
       "      <td>16</td>\n",
       "    </tr>\n",
       "    <tr>\n",
       "      <th>5089</th>\n",
       "      <td>Italy</td>\n",
       "      <td>2020-03-11</td>\n",
       "      <td>12462</td>\n",
       "      <td>17</td>\n",
       "    </tr>\n",
       "    <tr>\n",
       "      <th>5090</th>\n",
       "      <td>Italy</td>\n",
       "      <td>2020-03-12</td>\n",
       "      <td>12462</td>\n",
       "      <td>18</td>\n",
       "    </tr>\n",
       "    <tr>\n",
       "      <th>5091</th>\n",
       "      <td>Italy</td>\n",
       "      <td>2020-03-13</td>\n",
       "      <td>17660</td>\n",
       "      <td>19</td>\n",
       "    </tr>\n",
       "    <tr>\n",
       "      <th>5092</th>\n",
       "      <td>Italy</td>\n",
       "      <td>2020-03-14</td>\n",
       "      <td>21157</td>\n",
       "      <td>20</td>\n",
       "    </tr>\n",
       "    <tr>\n",
       "      <th>5093</th>\n",
       "      <td>Italy</td>\n",
       "      <td>2020-03-15</td>\n",
       "      <td>24747</td>\n",
       "      <td>21</td>\n",
       "    </tr>\n",
       "    <tr>\n",
       "      <th>5094</th>\n",
       "      <td>Italy</td>\n",
       "      <td>2020-03-16</td>\n",
       "      <td>27980</td>\n",
       "      <td>22</td>\n",
       "    </tr>\n",
       "    <tr>\n",
       "      <th>5095</th>\n",
       "      <td>Italy</td>\n",
       "      <td>2020-03-17</td>\n",
       "      <td>31506</td>\n",
       "      <td>23</td>\n",
       "    </tr>\n",
       "    <tr>\n",
       "      <th>5096</th>\n",
       "      <td>Italy</td>\n",
       "      <td>2020-03-18</td>\n",
       "      <td>35713</td>\n",
       "      <td>24</td>\n",
       "    </tr>\n",
       "    <tr>\n",
       "      <th>5097</th>\n",
       "      <td>Italy</td>\n",
       "      <td>2020-03-19</td>\n",
       "      <td>41035</td>\n",
       "      <td>25</td>\n",
       "    </tr>\n",
       "    <tr>\n",
       "      <th>5098</th>\n",
       "      <td>Italy</td>\n",
       "      <td>2020-03-20</td>\n",
       "      <td>47021</td>\n",
       "      <td>26</td>\n",
       "    </tr>\n",
       "    <tr>\n",
       "      <th>5099</th>\n",
       "      <td>Italy</td>\n",
       "      <td>2020-03-21</td>\n",
       "      <td>53578</td>\n",
       "      <td>27</td>\n",
       "    </tr>\n",
       "    <tr>\n",
       "      <th>5100</th>\n",
       "      <td>Italy</td>\n",
       "      <td>2020-03-22</td>\n",
       "      <td>59138</td>\n",
       "      <td>28</td>\n",
       "    </tr>\n",
       "    <tr>\n",
       "      <th>5101</th>\n",
       "      <td>Italy</td>\n",
       "      <td>2020-03-23</td>\n",
       "      <td>63927</td>\n",
       "      <td>29</td>\n",
       "    </tr>\n",
       "    <tr>\n",
       "      <th>5102</th>\n",
       "      <td>Italy</td>\n",
       "      <td>2020-03-24</td>\n",
       "      <td>69176</td>\n",
       "      <td>30</td>\n",
       "    </tr>\n",
       "  </tbody>\n",
       "</table>\n",
       "</div>"
      ],
      "text/plain": [
       "     Country       Date  Confirmed Cases  Days since 100 cases\n",
       "5072   Italy 2020-02-23              155                     0\n",
       "5073   Italy 2020-02-24              229                     1\n",
       "5074   Italy 2020-02-25              322                     2\n",
       "5075   Italy 2020-02-26              453                     3\n",
       "5076   Italy 2020-02-27              655                     4\n",
       "5077   Italy 2020-02-28              888                     5\n",
       "5078   Italy 2020-02-29             1128                     6\n",
       "5079   Italy 2020-03-01             1694                     7\n",
       "5080   Italy 2020-03-02             2036                     8\n",
       "5081   Italy 2020-03-03             2502                     9\n",
       "5082   Italy 2020-03-04             3089                    10\n",
       "5083   Italy 2020-03-05             3858                    11\n",
       "5084   Italy 2020-03-06             4636                    12\n",
       "5085   Italy 2020-03-07             5883                    13\n",
       "5086   Italy 2020-03-08             7375                    14\n",
       "5087   Italy 2020-03-09             9172                    15\n",
       "5088   Italy 2020-03-10            10149                    16\n",
       "5089   Italy 2020-03-11            12462                    17\n",
       "5090   Italy 2020-03-12            12462                    18\n",
       "5091   Italy 2020-03-13            17660                    19\n",
       "5092   Italy 2020-03-14            21157                    20\n",
       "5093   Italy 2020-03-15            24747                    21\n",
       "5094   Italy 2020-03-16            27980                    22\n",
       "5095   Italy 2020-03-17            31506                    23\n",
       "5096   Italy 2020-03-18            35713                    24\n",
       "5097   Italy 2020-03-19            41035                    25\n",
       "5098   Italy 2020-03-20            47021                    26\n",
       "5099   Italy 2020-03-21            53578                    27\n",
       "5100   Italy 2020-03-22            59138                    28\n",
       "5101   Italy 2020-03-23            63927                    29\n",
       "5102   Italy 2020-03-24            69176                    30"
      ]
     },
     "execution_count": 8,
     "metadata": {},
     "output_type": "execute_result"
    }
   ],
   "source": [
    "country_df = dff2[dff2['Country']=='Italy']\n",
    "country_df"
   ]
  },
  {
   "cell_type": "code",
   "execution_count": 10,
   "metadata": {},
   "outputs": [
    {
     "data": {
      "text/plain": [
       "array([  155.,   229.,   322.,   453.,   655.,   888.,  1128.,  1694.,\n",
       "        2036.,  2502.,  3089.,  3858.,  4636.,  5883.,  7375.,  9172.,\n",
       "       10149., 12462., 12462., 17660., 21157., 24747., 27980., 31506.,\n",
       "       35713., 41035., 47021., 53578., 59138., 63927., 69176.])"
      ]
     },
     "execution_count": 10,
     "metadata": {},
     "output_type": "execute_result"
    }
   ],
   "source": [
    "nb_of_cases = country_df['Confirmed Cases'].values.astype(float)\n",
    "nb_of_cases"
   ]
  },
  {
   "cell_type": "code",
   "execution_count": 11,
   "metadata": {},
   "outputs": [
    {
     "data": {
      "text/plain": [
       "31"
      ]
     },
     "execution_count": 11,
     "metadata": {},
     "output_type": "execute_result"
    }
   ],
   "source": [
    "len(nb_of_cases)"
   ]
  },
  {
   "cell_type": "code",
   "execution_count": 12,
   "metadata": {},
   "outputs": [
    {
     "data": {
      "text/plain": [
       "[<matplotlib.lines.Line2D at 0x112255518>]"
      ]
     },
     "execution_count": 12,
     "metadata": {},
     "output_type": "execute_result"
    },
    {
     "data": {
      "image/png": "[encoded data removed]",
      "text/plain": [
       "<Figure size 432x288 with 1 Axes>"
      ]
     },
     "metadata": {
      "needs_background": "light"
     },
     "output_type": "display_data"
    }
   ],
   "source": [
    "plt.plot(nb_of_cases)"
   ]
  },
  {
   "cell_type": "code",
   "execution_count": 60,
   "metadata": {},
   "outputs": [],
   "source": []
  },
  {
   "cell_type": "code",
   "execution_count": null,
   "metadata": {},
   "outputs": [],
   "source": []
  },
  {
   "cell_type": "code",
   "execution_count": null,
   "metadata": {},
   "outputs": [],
   "source": []
  },
  {
   "cell_type": "code",
   "execution_count": null,
   "metadata": {},
   "outputs": [],
   "source": []
  },
  {
   "cell_type": "markdown",
   "metadata": {},
   "source": [
    "### Autoregression"
   ]
  },
  {
   "cell_type": "code",
   "execution_count": 12,
   "metadata": {},
   "outputs": [],
   "source": [
    "from statsmodels.tsa.ar_model import AR"
   ]
  },
  {
   "cell_type": "code",
   "execution_count": 18,
   "metadata": {},
   "outputs": [],
   "source": [
    "model = AR(nb_of_cases)\n",
    "model_fit = model.fit()"
   ]
  },
  {
   "cell_type": "code",
   "execution_count": 17,
   "metadata": {},
   "outputs": [
    {
     "name": "stdout",
     "output_type": "stream",
     "text": [
      "[9112.99925352]\n"
     ]
    }
   ],
   "source": [
    "yhat = model_fit.predict(len(nb_of_cases), len(nb_of_cases))\n",
    "print(yhat)"
   ]
  },
  {
   "cell_type": "code",
   "execution_count": null,
   "metadata": {},
   "outputs": [],
   "source": []
  },
  {
   "cell_type": "markdown",
   "metadata": {},
   "source": [
    "### Polynomial regression"
   ]
  },
  {
   "cell_type": "code",
   "execution_count": 13,
   "metadata": {},
   "outputs": [],
   "source": [
    "from sklearn.linear_model import LinearRegression\n",
    "import numpy as np"
   ]
  },
  {
   "cell_type": "code",
   "execution_count": 14,
   "metadata": {},
   "outputs": [],
   "source": [
    "x_ = np.array(range(0,len(nb_of_cases)))"
   ]
  },
  {
   "cell_type": "code",
   "execution_count": 15,
   "metadata": {},
   "outputs": [],
   "source": [
    "# model = LinearRegression()\n",
    "# model.fit(x_.reshape(-1, 1), nb_of_cases.reshape(-1, 1))"
   ]
  },
  {
   "cell_type": "code",
   "execution_count": 18,
   "metadata": {},
   "outputs": [],
   "source": [
    "p = np.poly1d(np.polyfit(x_, nb_of_cases, 3))"
   ]
  },
  {
   "cell_type": "code",
   "execution_count": 19,
   "metadata": {},
   "outputs": [
    {
     "data": {
      "image/png": "[encoded data removed]",
      "text/plain": [
       "<Figure size 432x288 with 1 Axes>"
      ]
     },
     "metadata": {
      "needs_background": "light"
     },
     "output_type": "display_data"
    }
   ],
   "source": [
    "plt.plot(x_, nb_of_cases, 'o', x_, p(x_), '-')\n",
    "plt.show()"
   ]
  },
  {
   "cell_type": "code",
   "execution_count": null,
   "metadata": {},
   "outputs": [],
   "source": []
  },
  {
   "cell_type": "code",
   "execution_count": null,
   "metadata": {},
   "outputs": [],
   "source": []
  },
  {
   "cell_type": "code",
   "execution_count": null,
   "metadata": {},
   "outputs": [],
   "source": []
  }
 ],
 "metadata": {
  "kernelspec": {
   "display_name": "Python 3",
   "language": "python",
   "name": "python3"
  },
  "language_info": {
   "codemirror_mode": {
    "name": "ipython",
    "version": 3
   },
   "file_extension": ".py",
   "mimetype": "text/x-python",
   "name": "python",
   "nbconvert_exporter": "python",
   "pygments_lexer": "ipython3",
   "version": "3.7.3"
  }
 },
 "nbformat": 4,
 "nbformat_minor": 2
}
